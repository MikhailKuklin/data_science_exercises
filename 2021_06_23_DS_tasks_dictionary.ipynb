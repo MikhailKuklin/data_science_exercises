{
  "nbformat": 4,
  "nbformat_minor": 0,
  "metadata": {
    "colab": {
      "name": "2021_06_23_DS_tasks_dictionary.ipynb",
      "provenance": [],
      "authorship_tag": "ABX9TyPRCW0lh9VTWeJLW342wNrb",
      "include_colab_link": true
    },
    "kernelspec": {
      "name": "python3",
      "display_name": "Python 3"
    },
    "language_info": {
      "name": "python"
    }
  },
  "cells": [
    {
      "cell_type": "markdown",
      "metadata": {
        "id": "view-in-github",
        "colab_type": "text"
      },
      "source": [
        "<a href=\"https://colab.research.google.com/github/MikhailKuklin/data_science_exercises/blob/main/2021_06_23_DS_tasks_dictionary.ipynb\" target=\"_parent\"><img src=\"https://colab.research.google.com/assets/colab-badge.svg\" alt=\"Open In Colab\"/></a>"
      ]
    },
    {
      "cell_type": "code",
      "metadata": {
        "colab": {
          "base_uri": "https://localhost:8080/"
        },
        "id": "Aa6wa_QcD4Ih",
        "outputId": "0c99e150-1a51-49fb-8e2f-9feb901a5b3f"
      },
      "source": [
        "# TASK: make a reversed dictionary\n",
        "\n",
        "shoplist = { 1:\t\"milk\", 2:\t\"bread\", 3:\t\"ham\", 4:\t\"cheese\", 5:\t\"pasta\", 6:\t\"tomatoes\"}\n",
        "\n",
        "def rev_dict(dict):\n",
        "  for key, value in list(dict.items())[::-1]: # OR reversed(dict.items())\n",
        "    print(key, value)\n",
        "\n",
        "rev_dict(shoplist)"
      ],
      "execution_count": 20,
      "outputs": [
        {
          "output_type": "stream",
          "text": [
            "6 tomatoes\n",
            "5 pasta\n",
            "4 cheese\n",
            "3 ham\n",
            "2 bread\n",
            "1 milk\n"
          ],
          "name": "stdout"
        }
      ]
    },
    {
      "cell_type": "code",
      "metadata": {
        "colab": {
          "base_uri": "https://localhost:8080/"
        },
        "id": "K1seeDAhEkLg",
        "outputId": "3a128bed-4d6b-4f98-c194-210e35a214ad"
      },
      "source": [
        "# TASK: calculate sum of values from dictionary\n",
        "\n",
        "def sum_values(my_dictionary):\n",
        "  sum = 0\n",
        "  for value in my_dictionary.values():\n",
        "    sum += value\n",
        "  return sum\n",
        "\n",
        "print(sum_values({\"milk\":5, \"eggs\":2, \"flour\": 3}))"
      ],
      "execution_count": 21,
      "outputs": [
        {
          "output_type": "stream",
          "text": [
            "10\n"
          ],
          "name": "stdout"
        }
      ]
    },
    {
      "cell_type": "code",
      "metadata": {
        "colab": {
          "base_uri": "https://localhost:8080/"
        },
        "id": "Mj_UvuXOEqBc",
        "outputId": "6f1c76c1-91d7-47a6-9ddf-b43dde45180c"
      },
      "source": [
        "# TASK: calculate sum of values of even keys from dictionary\n",
        "\n",
        "def sum_even_keys(my_dictionary):\n",
        "  sum = 0\n",
        "  for key in my_dictionary.keys():\n",
        "    if key % 2 ==0:\n",
        "      sum += my_dictionary[key]\n",
        "  return sum\n",
        "\n",
        "print(sum_even_keys({1:5, 2:2, 3:3}))"
      ],
      "execution_count": 22,
      "outputs": [
        {
          "output_type": "stream",
          "text": [
            "2\n"
          ],
          "name": "stdout"
        }
      ]
    },
    {
      "cell_type": "code",
      "metadata": {
        "colab": {
          "base_uri": "https://localhost:8080/"
        },
        "id": "cGMG9sXCExZn",
        "outputId": "32b1ed3e-1ae2-4414-bad0-562f0851102a"
      },
      "source": [
        "# TASK: get keys which have the same integer as values in dictionary\n",
        "\n",
        "def values_that_are_keys(my_dictionary):\n",
        "  mlist = []\n",
        "  for key in my_dictionary.keys():\n",
        "    for value in my_dictionary.values():\n",
        "      if key == value:\n",
        "        mlist.append(key)\n",
        "  return mlist\n",
        "\n",
        "print(values_that_are_keys({1:100, 2:1, 3:4, 4:10}))"
      ],
      "execution_count": 23,
      "outputs": [
        {
          "output_type": "stream",
          "text": [
            "[1, 4]\n"
          ],
          "name": "stdout"
        }
      ]
    },
    {
      "cell_type": "code",
      "metadata": {
        "colab": {
          "base_uri": "https://localhost:8080/"
        },
        "id": "_nV7H4WBE0dD",
        "outputId": "f93c337a-329b-4ff5-c25d-41310ae16175"
      },
      "source": [
        "# TASK: identify the key which has the largest value in dictionary\n",
        "\n",
        "def max_key(my_dictionary):\n",
        "  largest_key = float(\"-inf\") # set up to as small as possible\n",
        "  largest_value = float(\"-inf\")\n",
        "  for key, value in my_dictionary.items():\n",
        "    if value > largest_value:\n",
        "      largest_value = value\n",
        "      largest_key = key\n",
        "  return largest_key\n",
        "\n",
        "print(max_key({1:20, 2:123, 3:4, 4:999}))"
      ],
      "execution_count": 24,
      "outputs": [
        {
          "output_type": "stream",
          "text": [
            "4\n"
          ],
          "name": "stdout"
        }
      ]
    },
    {
      "cell_type": "code",
      "metadata": {
        "colab": {
          "base_uri": "https://localhost:8080/"
        },
        "id": "5QoWMmxUFCie",
        "outputId": "72e0a511-e3e6-4746-96c5-ace6d5155ddc"
      },
      "source": [
        "# TASK: create a dictionary where every word from given list is a key and length of this word is a value\n",
        "\n",
        "def word_length_dictionary(words):\n",
        "  mdict = {}\n",
        "  for i in words:\n",
        "    mdict[i] = len(i)\n",
        "  return mdict\n",
        "\n",
        "print(word_length_dictionary([\"Jack\", \"doctor\", \"Finland\"]))"
      ],
      "execution_count": 25,
      "outputs": [
        {
          "output_type": "stream",
          "text": [
            "{'Jack': 4, 'doctor': 6, 'Finland': 7}\n"
          ],
          "name": "stdout"
        }
      ]
    },
    {
      "cell_type": "code",
      "metadata": {
        "colab": {
          "base_uri": "https://localhost:8080/"
        },
        "id": "YEVcuMzzFPWn",
        "outputId": "9326ac09-ae34-48e7-ff45-910c39f92456"
      },
      "source": [
        "# TASK: count number of words in a string and create a dictionary having word as a key and number as a value\n",
        "\n",
        "def frequency_dictionary(words):\n",
        "  mdict = {}\n",
        "  for i in words:\n",
        "    c = words.count(i)\n",
        "    mdict[i] = c\n",
        "  return mdict\n",
        "\n",
        "print(frequency_dictionary([\"apple\", \"apple\", \"cat\", 1]))"
      ],
      "execution_count": 26,
      "outputs": [
        {
          "output_type": "stream",
          "text": [
            "{'apple': 2, 'cat': 1, 1: 1}\n"
          ],
          "name": "stdout"
        }
      ]
    },
    {
      "cell_type": "code",
      "metadata": {
        "colab": {
          "base_uri": "https://localhost:8080/"
        },
        "id": "1gNj4AxYFdJy",
        "outputId": "6e4477e3-d488-4e28-c509-b97da10c53b6"
      },
      "source": [
        "# another solution\n",
        "\n",
        "def frequency_dictionary(words):\n",
        "  freqs = {}\n",
        "  for word in words:\n",
        "    if word not in freqs:\n",
        "      freqs[word] = 0\n",
        "    freqs[word] += 1\n",
        "  return freqs\n",
        "\n",
        "print(frequency_dictionary([\"apple\", \"apple\", \"cat\", 1]))"
      ],
      "execution_count": 27,
      "outputs": [
        {
          "output_type": "stream",
          "text": [
            "{'apple': 2, 'cat': 1, 1: 1}\n"
          ],
          "name": "stdout"
        }
      ]
    },
    {
      "cell_type": "code",
      "metadata": {
        "colab": {
          "base_uri": "https://localhost:8080/"
        },
        "id": "y8W9H7YqFkmj",
        "outputId": "43bb2f39-8d4d-43a3-9237-e47d9eafce1d"
      },
      "source": [
        "# TASK: calculate number of unique values in a dictionary\n",
        "\n",
        "def unique_values(my_dictionary):\n",
        "  count = []\n",
        "  for value in my_dictionary.values():\n",
        "    if value not in count:\n",
        "      count.append(value)\n",
        "  return len(count)\n",
        "\n",
        "print(unique_values({0:3, 1:1, 4:1, 5:3}))"
      ],
      "execution_count": 28,
      "outputs": [
        {
          "output_type": "stream",
          "text": [
            "2\n"
          ],
          "name": "stdout"
        }
      ]
    },
    {
      "cell_type": "code",
      "metadata": {
        "colab": {
          "base_uri": "https://localhost:8080/"
        },
        "id": "QADQlFNvFo50",
        "outputId": "935469f9-b5dd-4f15-ef47-d71cc83a3dba"
      },
      "source": [
        "# TASK: from dictionary, return key as the first letter if a key and value by counting number of values whose key has the same first letter\n",
        "\n",
        "def count_first_letter(names):\n",
        "  mdict = {}\n",
        "  for key in names:\n",
        "    fl = key[0]\n",
        "    if fl not in mdict:\n",
        "      mdict[fl] = 0\n",
        "    mdict[fl] += len(names[key])\n",
        "  return mdict\n",
        "\n",
        "print(count_first_letter({\"Stark\": [\"Ned\", \"Robb\", \"Sansa\"], \"Snow\" : [\"Jon\"], \"Lannister\": [\"Jaime\", \"Cersei\", \"Tywin\"]}))"
      ],
      "execution_count": 29,
      "outputs": [
        {
          "output_type": "stream",
          "text": [
            "{'S': 4, 'L': 3}\n"
          ],
          "name": "stdout"
        }
      ]
    },
    {
      "cell_type": "code",
      "metadata": {
        "colab": {
          "base_uri": "https://localhost:8080/"
        },
        "id": "Hfwg-xfvFzZ_",
        "outputId": "30c3cb6f-7af3-467b-b525-ada80240a053"
      },
      "source": [
        "# TASK: replace keys with values in dictionary\n",
        "\n",
        "def ex_dict(mydict):\n",
        "  new_dict = {}\n",
        "  for key in mydict.keys():\n",
        "    for value in mydict[key]:\n",
        "      if value in new_dict.keys():\n",
        "        new_dict[value].append(key)\n",
        "      else:\n",
        "        new_dict[value] = [key]\n",
        "  return new_dict\n",
        "\n",
        "d={'move': ['15 min'], 'jump': ['5 min', '10 min'], 'run': ['45 min']}\n",
        "print(ex_dict(d))"
      ],
      "execution_count": 30,
      "outputs": [
        {
          "output_type": "stream",
          "text": [
            "{'15 min': ['move'], '5 min': ['jump'], '10 min': ['jump'], '45 min': ['run']}\n"
          ],
          "name": "stdout"
        }
      ]
    },
    {
      "cell_type": "code",
      "metadata": {
        "colab": {
          "base_uri": "https://localhost:8080/"
        },
        "id": "0dkqiENAGFAF",
        "outputId": "11b9967d-16ac-4e8a-d352-1037a6475a59"
      },
      "source": [
        "# create a dictionary so that first element in letters will be a key and first element in numbers will be its value and so on\n",
        "\n",
        "letters = ['b', 'a', 'd', 'c']\n",
        "numbers = [2, 4, 3, 1]\n",
        "\n",
        "md1= {}\n",
        "md2 = letters + numbers\n",
        "for i in md2:\n",
        "    ind = md2.index(i)\n",
        "    j = ind + 4\n",
        "    if j < len(md2):\n",
        "      md1[i]=md2[j]\n",
        "print(md1)\n",
        "\n",
        "md1.items()"
      ],
      "execution_count": 31,
      "outputs": [
        {
          "output_type": "stream",
          "text": [
            "{'b': 2, 'a': 4, 'd': 3, 'c': 1}\n"
          ],
          "name": "stdout"
        },
        {
          "output_type": "execute_result",
          "data": {
            "text/plain": [
              "dict_items([('b', 2), ('a', 4), ('d', 3), ('c', 1)])"
            ]
          },
          "metadata": {
            "tags": []
          },
          "execution_count": 31
        }
      ]
    },
    {
      "cell_type": "code",
      "metadata": {
        "colab": {
          "base_uri": "https://localhost:8080/"
        },
        "id": "230G-Y27HD2p",
        "outputId": "ebfd3a07-4f0e-40e9-eecb-cde7b6570b2a"
      },
      "source": [
        "# another solution with zip\n",
        "\n",
        "letters = ['b', 'a', 'd', 'c']\n",
        "numbers = [2, 4, 3, 1]\n",
        "\n",
        "print(list(zip(letters, numbers)))"
      ],
      "execution_count": 32,
      "outputs": [
        {
          "output_type": "stream",
          "text": [
            "[('b', 2), ('a', 4), ('d', 3), ('c', 1)]\n"
          ],
          "name": "stdout"
        }
      ]
    }
  ]
}