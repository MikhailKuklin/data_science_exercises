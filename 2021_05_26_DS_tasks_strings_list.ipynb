{
  "nbformat": 4,
  "nbformat_minor": 0,
  "metadata": {
    "colab": {
      "name": "2021_05_26_DS_tasks_strings_list.ipynb",
      "provenance": [],
      "toc_visible": true,
      "authorship_tag": "ABX9TyNStIC5NLz1ts4SRda13dXO",
      "include_colab_link": true
    },
    "kernelspec": {
      "name": "python3",
      "display_name": "Python 3"
    },
    "language_info": {
      "name": "python"
    }
  },
  "cells": [
    {
      "cell_type": "markdown",
      "metadata": {
        "id": "view-in-github",
        "colab_type": "text"
      },
      "source": [
        "<a href=\"https://colab.research.google.com/github/MikhailKuklin/data_science_exercises/blob/main/2021_05_26_DS_tasks_strings_list.ipynb\" target=\"_parent\"><img src=\"https://colab.research.google.com/assets/colab-badge.svg\" alt=\"Open In Colab\"/></a>"
      ]
    },
    {
      "cell_type": "markdown",
      "metadata": {
        "id": "lQZK57is8z2V"
      },
      "source": [
        "# Lists, strings"
      ]
    },
    {
      "cell_type": "code",
      "metadata": {
        "id": "S4IVBTiIPnYb",
        "colab": {
          "base_uri": "https://localhost:8080/"
        },
        "outputId": "a05463c4-3987-4ada-de0e-7bb83877fac0"
      },
      "source": [
        "#TASK: write a function which prints negative index of a name in the list\n",
        "\n",
        "# Solution without positional argument unpacking\n",
        "\n",
        "garden_waitlist = [\"Jiho\", \"Adam\", \"Sonny\", \"Alisha\"]\n",
        "\n",
        "def get_index(mylist, name):\n",
        "  \"The function replace item in the list\"\n",
        "  for i in mylist:\n",
        "    if i == name:\n",
        "      a = ~mylist[::-1].index(i)\n",
        "      return a\n",
        "\n",
        "print(get_index.__doc__) # print docstring\n",
        "print(get_index(garden_waitlist, \"Alisha\"))"
      ],
      "execution_count": 1,
      "outputs": [
        {
          "output_type": "stream",
          "text": [
            "The function replace item in the list\n",
            "-1\n"
          ],
          "name": "stdout"
        }
      ]
    },
    {
      "cell_type": "code",
      "metadata": {
        "colab": {
          "base_uri": "https://localhost:8080/"
        },
        "id": "dpBqz2KEUm5y",
        "outputId": "636985a7-2350-41bc-ddb7-9637fcb602e0"
      },
      "source": [
        "#TASK:  write a function which prints negative index of a name in the list\n",
        "\n",
        "# Solution with positional argument unpacking\n",
        "\n",
        "waitlist = [\"Jane\", \"Adam\", \"Alex\", \"Alisha\"]\n",
        "\n",
        "def get_index(mylist, *names):\n",
        "  \"The function replace item in the list\"\n",
        "  for name in names:\n",
        "    for i in mylist:\n",
        "      if i == name:\n",
        "        neg_ind = ~mylist[::-1].index(i)\n",
        "        print(f\"String {name} has {neg_ind} index in the list\")\n",
        "        \n",
        "get_index(waitlist,  \"Alisha\",'Jane')"
      ],
      "execution_count": 2,
      "outputs": [
        {
          "output_type": "stream",
          "text": [
            "String Alisha has -1 index in the list\n",
            "String Jane has -4 index in the list\n"
          ],
          "name": "stdout"
        }
      ]
    },
    {
      "cell_type": "code",
      "metadata": {
        "colab": {
          "base_uri": "https://localhost:8080/"
        },
        "id": "jOlFXbAiovF5",
        "outputId": "16b3308e-756d-4d5b-bab4-a0d0b8df1452"
      },
      "source": [
        "#TASK: return a list with unique items only\n",
        "\n",
        "new_store_order_list = [\"Orange\", \"Apple\", \"Mango\", \"Broccoli\", \"Mango\"]\n",
        "\n",
        "def unique(mylist):\n",
        "  uniq_list = []\n",
        "  for name in mylist:\n",
        "    if name in uniq_list:\n",
        "      continue\n",
        "    else:\n",
        "      uniq_list.append(name)\n",
        "  return uniq_list\n",
        "\n",
        "print(unique(new_store_order_list))"
      ],
      "execution_count": 3,
      "outputs": [
        {
          "output_type": "stream",
          "text": [
            "['Orange', 'Apple', 'Mango', 'Broccoli']\n"
          ],
          "name": "stdout"
        }
      ]
    },
    {
      "cell_type": "code",
      "metadata": {
        "colab": {
          "base_uri": "https://localhost:8080/"
        },
        "id": "PrM6nxNf0Qfy",
        "outputId": "38aa328c-7cc5-4c1b-facd-72fa3c9c363f"
      },
      "source": [
        "# TASK: count number of occurancies of letter(s) in a string\n",
        "\n",
        "order_list = [\"Celery\", \"Orange Juice\", \"Orange\", \"Flatbread\"]\n",
        "\n",
        "def count_occ(mylist, *letters):\n",
        "  str1 = list(' '.join(mylist)) # divide into letter\n",
        "  mylist_let = ' '.join(str1).lower() # make a string ignoring capitalization\n",
        "  count = 0\n",
        "  for letter in letters:\n",
        "    for i in mylist_let:\n",
        "        if i == letter:\n",
        "          count += 1\n",
        "    print(f\"Number of occurancies of {letter} is {count}\")\n",
        "  \n",
        "count_occ(order_list, 'a', 'b')\n",
        "\n",
        "# Using build-in function: mylist_let.count('a')"
      ],
      "execution_count": 4,
      "outputs": [
        {
          "output_type": "stream",
          "text": [
            "Number of occurancies of a is 4\n",
            "Number of occurancies of b is 5\n"
          ],
          "name": "stdout"
        }
      ]
    },
    {
      "cell_type": "code",
      "metadata": {
        "colab": {
          "base_uri": "https://localhost:8080/"
        },
        "id": "gWhhE8gWi-rI",
        "outputId": "32b854fb-cefc-45ac-e0f6-04cc5f91ff05"
      },
      "source": [
        "# TASK: count number of occurancies of letter(s) in a string using count()\n",
        "\n",
        "order_list = [\"Celery\", \"Orange Juice\", \"Orange\", \"Flatbread\"]\n",
        "\n",
        "letter = 'a'\n",
        "\n",
        "let = ' '.join(order_list)\n",
        "count = [i for i in let if i == letter]\n",
        "print(len(count))"
      ],
      "execution_count": 5,
      "outputs": [
        {
          "output_type": "stream",
          "text": [
            "4\n"
          ],
          "name": "stdout"
        }
      ]
    },
    {
      "cell_type": "code",
      "metadata": {
        "colab": {
          "base_uri": "https://localhost:8080/"
        },
        "id": "uif2DYnV4q2Y",
        "outputId": "d01ed3d8-58dc-4a3b-f800-e0fddee088d1"
      },
      "source": [
        "# TASK: count number of occurancies of words in a string\n",
        "\n",
        "order_list = [\"Celery\", \"Orange Juice\", \"Orange\", \"Flatbread\"]\n",
        "\n",
        "def count_occ(mylist, *words):\n",
        "  str2 = ' '.join(mylist).lower().split() # make a string ignoring capitalization\n",
        "  count = 0\n",
        "  for word in words:\n",
        "    for i in str2:\n",
        "        if i == word:\n",
        "          count += 1\n",
        "    print(f\"Number of occurancies of {word} is {count}\")\n",
        "  \n",
        "count_occ(order_list, 'orange')"
      ],
      "execution_count": 6,
      "outputs": [
        {
          "output_type": "stream",
          "text": [
            "Number of occurancies of orange is 2\n"
          ],
          "name": "stdout"
        }
      ]
    },
    {
      "cell_type": "code",
      "metadata": {
        "id": "vC3zQD77EGGB",
        "colab": {
          "base_uri": "https://localhost:8080/",
          "height": 282
        },
        "outputId": "362e191f-d85e-4165-d33e-b4a02a83fcb4"
      },
      "source": [
        "# TASK: write a script to mimic Fibonacci series\n",
        "\n",
        "def Fib(num):\n",
        "  if num == 0:\n",
        "    return 0\n",
        "  if num == 1:\n",
        "    return 1\n",
        "  else:\n",
        "    return Fib(num-1)+Fib(num-2)\n",
        "\n",
        "import numpy as np\n",
        "\n",
        "list_fib = []\n",
        "for i in range(15):\n",
        "  list_fib.append(Fib(i))\n",
        "\n",
        "print(list_fib)\n",
        "\n",
        "\"\"\"num = range(15)\n",
        "list_fib2 = map(lambda fib: Fib(i),num)\n",
        "print(list(list_fib2))\"\"\"\n",
        "\n",
        "from matplotlib import pyplot as plt\n",
        "\n",
        "plt.plot(list_fib, color = 'red')\n",
        "plt.ylabel('Fibonacci seris')\n",
        "plt.show()"
      ],
      "execution_count": 7,
      "outputs": [
        {
          "output_type": "stream",
          "text": [
            "[0, 1, 1, 2, 3, 5, 8, 13, 21, 34, 55, 89, 144, 233, 377]\n"
          ],
          "name": "stdout"
        },
        {
          "output_type": "display_data",
          "data": {
            "image/png": "[encoded data removed]",
            "text/plain": [
              "<Figure size 432x288 with 1 Axes>"
            ]
          },
          "metadata": {
            "tags": [],
            "needs_background": "light"
          }
        }
      ]
    },
    {
      "cell_type": "code",
      "metadata": {
        "colab": {
          "base_uri": "https://localhost:8080/"
        },
        "id": "FSfbamhAbmwc",
        "outputId": "36e56e88-607e-4371-923f-45676b167148"
      },
      "source": [
        "# TASK: get length of word(s)\n",
        "\n",
        "def get_length(word):\n",
        "  count = 0\n",
        "  for i in word:\n",
        "    count += 1\n",
        "  print(f\"Length of {word} is {count}\")\n",
        "\n",
        "get_length('blablbalba')"
      ],
      "execution_count": 8,
      "outputs": [
        {
          "output_type": "stream",
          "text": [
            "Length of blablbalba is 10\n"
          ],
          "name": "stdout"
        }
      ]
    },
    {
      "cell_type": "code",
      "metadata": {
        "id": "st5tLuf47LNP",
        "colab": {
          "base_uri": "https://localhost:8080/"
        },
        "outputId": "8683a564-4fef-49a8-ca85-75bdfff4329f"
      },
      "source": [
        "# TASK: combine lists and sort them\n",
        "\n",
        "list1 = [4, 23, 3434, -4]\n",
        "list2 = [23232, 2, 23, -92323, 0]\n",
        "\n",
        "def combine_sort(*lists):\n",
        "  c_list = []\n",
        "  for i in lists:\n",
        "    c_list += i\n",
        "  c_list.sort() #OR c_list2 = sorted(c_list). Reversed = sort(reverse=True)\n",
        "  return c_list\n",
        "\n",
        "combine_sort(list1, list2)"
      ],
      "execution_count": 9,
      "outputs": [
        {
          "output_type": "execute_result",
          "data": {
            "text/plain": [
              "[-92323, -4, 0, 2, 4, 23, 23, 3434, 23232]"
            ]
          },
          "metadata": {
            "tags": []
          },
          "execution_count": 9
        }
      ]
    },
    {
      "cell_type": "code",
      "metadata": {
        "colab": {
          "base_uri": "https://localhost:8080/"
        },
        "id": "k8UkjndEL1XD",
        "outputId": "72d09f81-4a26-44d0-d5a0-0873bfa746bd"
      },
      "source": [
        "# TASK: double item with required index in the list\n",
        "\n",
        "def double_index(lst,index):\n",
        "  if index >= len(lst):\n",
        "    return lst\n",
        "  else:\n",
        "    new_list = []\n",
        "    for i in range(index):\n",
        "        new_list.append(lst[i])\n",
        "    new_list.append(lst[index]*2)\n",
        "    for i in range(index+1, len(lst)):\n",
        "        new_list.append(lst[i])\n",
        "    return new_list\n",
        "\n",
        "print(double_index([3, 8, -10, 12], 2))"
      ],
      "execution_count": 10,
      "outputs": [
        {
          "output_type": "stream",
          "text": [
            "[3, 8, -20, 12]\n"
          ],
          "name": "stdout"
        }
      ]
    },
    {
      "cell_type": "code",
      "metadata": {
        "colab": {
          "base_uri": "https://localhost:8080/"
        },
        "id": "jfXyhNr6PBhF",
        "outputId": "4049a35a-615a-4e87-9b47-6b289dd654c9"
      },
      "source": [
        "# TASK: return sum of middle items\n",
        "\n",
        "def middle_element(lst):\n",
        "  if len(lst) % 2 == 0:\n",
        "    m = int(len(lst)/2)\n",
        "    aver = int((lst[m-1] + lst[m])/2)\n",
        "    return aver\n",
        "  else:\n",
        "    return lst[int(len(lst)/2)]\n",
        "\n",
        "print(middle_element([5, 2, -10, -4, 4, 5]))"
      ],
      "execution_count": 11,
      "outputs": [
        {
          "output_type": "stream",
          "text": [
            "-7\n"
          ],
          "name": "stdout"
        }
      ]
    },
    {
      "cell_type": "code",
      "metadata": {
        "colab": {
          "base_uri": "https://localhost:8080/"
        },
        "id": "j9i4JWWXVdOg",
        "outputId": "58d0772d-9cb6-458e-e154-d25f0686dd7c"
      },
      "source": [
        "# TASK: remove starting even numbers\n",
        "\n",
        "def delete_starting_evens(lst):\n",
        "  while (len(lst) > 0 and lst[0] % 2 == 0):\n",
        "    lst = lst[1:]\n",
        "  return lst\n",
        "\n",
        "#Uncomment the lines below when your function is done\n",
        "print(delete_starting_evens([4, 8, 10, 11, 12, 15]))"
      ],
      "execution_count": 12,
      "outputs": [
        {
          "output_type": "stream",
          "text": [
            "[11, 12, 15]\n"
          ],
          "name": "stdout"
        }
      ]
    },
    {
      "cell_type": "code",
      "metadata": {
        "colab": {
          "base_uri": "https://localhost:8080/"
        },
        "id": "SG2CeVioXlyI",
        "outputId": "da3cdfb1-0451-48c5-cfdc-8268d833d2bf"
      },
      "source": [
        "# TASK: return the list of elements which have odd indices\n",
        "\n",
        "def odd_indices(lst):\n",
        "  new = []\n",
        "  for i in range(len(lst)):\n",
        "    if i % 2 != 0:\n",
        "      new.append(lst[i])\n",
        "  return new\n",
        "\n",
        "print(odd_indices([4, 3, 7, 10, 11, -2]))"
      ],
      "execution_count": 13,
      "outputs": [
        {
          "output_type": "stream",
          "text": [
            "[3, 10, -2]\n"
          ],
          "name": "stdout"
        }
      ]
    },
    {
      "cell_type": "code",
      "metadata": {
        "id": "Rtwr5Jexb0hO",
        "colab": {
          "base_uri": "https://localhost:8080/"
        },
        "outputId": "99c52837-0e1e-4179-ae41-65ee569591a2"
      },
      "source": [
        "# TASK: return maximum and minimum values in the list\n",
        "# Lazy way: min(), max()\n",
        "def extremes(nums):\n",
        "  max = nums[0]\n",
        "  min = nums[0]\n",
        "  for i in nums:\n",
        "    if i > max:\n",
        "      max = i\n",
        "    elif i < min:\n",
        "      min = i\n",
        "  print(f\"Maximum: {max} \\nMinimum: {min}\")\n",
        "\n",
        "extremes([50, -10, 0, 75, 20])"
      ],
      "execution_count": 14,
      "outputs": [
        {
          "output_type": "stream",
          "text": [
            "Maximum: 75 \n",
            "Minimum: -10\n"
          ],
          "name": "stdout"
        }
      ]
    },
    {
      "cell_type": "code",
      "metadata": {
        "id": "m5wxgOZqeYb5",
        "colab": {
          "base_uri": "https://localhost:8080/"
        },
        "outputId": "02fdf2dd-94a6-45df-9bb6-e3459a5390ab"
      },
      "source": [
        "# TASK: check if two lists have same values and return indices if True\n",
        "\n",
        "def same_values(lst1, lst2):\n",
        "  list = []\n",
        "  for i in range(len(lst1)):\n",
        "      if lst1[i] == lst2[i]:\n",
        "        list.append(i)\n",
        "  return list\n",
        "\n",
        "print(same_values([5, 1, -10, 3, 3], [5, 10, -10, 3, 5]))"
      ],
      "execution_count": 15,
      "outputs": [
        {
          "output_type": "stream",
          "text": [
            "[0, 2, 3]\n"
          ],
          "name": "stdout"
        }
      ]
    },
    {
      "cell_type": "code",
      "metadata": {
        "id": "ytSxfF1Z7hEV",
        "colab": {
          "base_uri": "https://localhost:8080/"
        },
        "outputId": "99ab3f21-4e00-446c-a0b4-33654c347920"
      },
      "source": [
        "# TASK: check if list is the same in reversed order\n",
        "\n",
        "def reversed_list(lst1,lst2):\n",
        "  for i in range(len(lst1)):\n",
        "      neg = ~lst1.index(lst1[i]) # OR neg = len(lst1) - 1 - i\n",
        "      if lst1[i] != lst2[neg]:\n",
        "        return False\n",
        "  return True\n",
        "\n",
        "print(reversed_list([1, 2, 3], [3, 2, 1]))"
      ],
      "execution_count": 16,
      "outputs": [
        {
          "output_type": "stream",
          "text": [
            "True\n"
          ],
          "name": "stdout"
        }
      ]
    },
    {
      "cell_type": "code",
      "metadata": {
        "colab": {
          "base_uri": "https://localhost:8080/"
        },
        "id": "OjSpROXVDkIL",
        "outputId": "19432fd1-28d7-4ba4-f3c5-8912bbdc9450"
      },
      "source": [
        "# TASK: count number of fragments in word\n",
        "\n",
        "def count_multi_char_x(word, x):\n",
        "  splits = word.split(x)\n",
        "  return(len(splits)-1)\n",
        "\n",
        "print(count_multi_char_x(\"mississippi\", \"iss\"))"
      ],
      "execution_count": 17,
      "outputs": [
        {
          "output_type": "stream",
          "text": [
            "2\n"
          ],
          "name": "stdout"
        }
      ]
    },
    {
      "cell_type": "code",
      "metadata": {
        "colab": {
          "base_uri": "https://localhost:8080/"
        },
        "id": "1tMPYZQ48_I9",
        "outputId": "4515bd2e-57b8-4324-fc97-416042414b65"
      },
      "source": [
        "# TASK: count number of unique letter in word using set\n",
        "\n",
        "s=\"mississippi\"\n",
        "print(f\"There are {len(set(s))} distinct characters in {s}\")"
      ],
      "execution_count": 18,
      "outputs": [
        {
          "output_type": "stream",
          "text": [
            "There are 4 distinct characters in mississippi\n"
          ],
          "name": "stdout"
        }
      ]
    },
    {
      "cell_type": "code",
      "metadata": {
        "id": "_voSg6UELWcM",
        "colab": {
          "base_uri": "https://localhost:8080/"
        },
        "outputId": "4b4ea119-301c-4d44-afd7-0d1c04a880f8"
      },
      "source": [
        "# TASK: print fragment between two strings\n",
        "\n",
        "def substring_between_letters(word,start,end):\n",
        "  final=\"\"\n",
        "  for i in word:\n",
        "    if start == i:\n",
        "      s = str(i)\n",
        "      ind = word.index(s)\n",
        "      wordn=word[ind+1:]\n",
        "  for i in wordn:\n",
        "      if end == i:\n",
        "          s = str(i)\n",
        "          ind = wordn.index(s)\n",
        "          final = wordn[:ind]\n",
        "  if start not in word or end not in word:\n",
        "    return word\n",
        "  else:\n",
        "    return final\n",
        "      \n",
        "print(substring_between_letters(\"apple\", \"p\", \"e\"))"
      ],
      "execution_count": 19,
      "outputs": [
        {
          "output_type": "stream",
          "text": [
            "pl\n"
          ],
          "name": "stdout"
        }
      ]
    },
    {
      "cell_type": "code",
      "metadata": {
        "colab": {
          "base_uri": "https://localhost:8080/"
        },
        "id": "QAwrn4F3jpVy",
        "outputId": "c613f5c9-425d-4e95-9aad-3b1ea703eac0"
      },
      "source": [
        "# TASK: print fragment between two strings using find()\n",
        "\n",
        "def substring_between_letters(word, start, end):\n",
        "  start_ind = word.find(start)\n",
        "  end_ind = word.find(end)\n",
        "  if start_ind > -1 and end_ind > -1:\n",
        "    return(word[start_ind+1:end_ind])\n",
        "  return word\n",
        "\n",
        "print(substring_between_letters(\"apple\", \"p\", \"e\"))"
      ],
      "execution_count": 20,
      "outputs": [
        {
          "output_type": "stream",
          "text": [
            "pl\n"
          ],
          "name": "stdout"
        }
      ]
    },
    {
      "cell_type": "code",
      "metadata": {
        "id": "4XQ-xRgPmh6C",
        "colab": {
          "base_uri": "https://localhost:8080/"
        },
        "outputId": "f6a65b8c-30e9-4b64-fc7d-df64ff981545"
      },
      "source": [
        "# TASK: reverse order - string or list of numbers\n",
        "\n",
        "def reverse_string(word):\n",
        "  str01 = \"\"\n",
        "  for i in range(len(word)-1, -1, -1):\n",
        "    str01 += word[i]\n",
        "  return str01\n",
        "\n",
        "def reverse_numbers(list):\n",
        "  l = [] # OR l = list[::-1]\n",
        "  for i in range(len(list)-1, -1, -1): \n",
        "    l.append(list[i])\n",
        "  return l\n",
        "\n",
        "\n",
        "print(reverse_string(\"Exercise\"))\n",
        "print(reverse_numbers([1,2,3,4]))"
      ],
      "execution_count": 21,
      "outputs": [
        {
          "output_type": "stream",
          "text": [
            "esicrexE\n",
            "[4, 3, 2, 1]\n"
          ],
          "name": "stdout"
        }
      ]
    },
    {
      "cell_type": "code",
      "metadata": {
        "id": "dVqeWuyZZVFg",
        "colab": {
          "base_uri": "https://localhost:8080/"
        },
        "outputId": "a9d52640-1977-4f9e-d2b8-ff0bd1f5d1eb"
      },
      "source": [
        "# TASK: make a multiplication table\n",
        "\n",
        "def mul_table(num, list):\n",
        "  for i in list:\n",
        "    print(f\"{num} multiplied by {i} is {i*num}\")\n",
        "\n",
        "mul_table(4, [0,1,2,3,4,5,6,7,8,9,10])"
      ],
      "execution_count": 22,
      "outputs": [
        {
          "output_type": "stream",
          "text": [
            "4 multiplied by 0 is 0\n",
            "4 multiplied by 1 is 4\n",
            "4 multiplied by 2 is 8\n",
            "4 multiplied by 3 is 12\n",
            "4 multiplied by 4 is 16\n",
            "4 multiplied by 5 is 20\n",
            "4 multiplied by 6 is 24\n",
            "4 multiplied by 7 is 28\n",
            "4 multiplied by 8 is 32\n",
            "4 multiplied by 9 is 36\n",
            "4 multiplied by 10 is 40\n"
          ],
          "name": "stdout"
        }
      ]
    },
    {
      "cell_type": "code",
      "metadata": {
        "id": "MZguHuoXbrTK",
        "colab": {
          "base_uri": "https://localhost:8080/"
        },
        "outputId": "20fd9635-29f0-4dc2-ec35-279f7a377727"
      },
      "source": [
        "# TASK: make a multiplication table\n",
        "\n",
        "def mul_table(list):\n",
        "  for i in list:\n",
        "    for j in list:\n",
        "      print(f\"{i*j:4d}\", end = '')\n",
        "    print('')\n",
        "\n",
        "mul_table([1,2,3,4,5,6,7,8,9,10])"
      ],
      "execution_count": 23,
      "outputs": [
        {
          "output_type": "stream",
          "text": [
            "   1   2   3   4   5   6   7   8   9  10\n",
            "   2   4   6   8  10  12  14  16  18  20\n",
            "   3   6   9  12  15  18  21  24  27  30\n",
            "   4   8  12  16  20  24  28  32  36  40\n",
            "   5  10  15  20  25  30  35  40  45  50\n",
            "   6  12  18  24  30  36  42  48  54  60\n",
            "   7  14  21  28  35  42  49  56  63  70\n",
            "   8  16  24  32  40  48  56  64  72  80\n",
            "   9  18  27  36  45  54  63  72  81  90\n",
            "  10  20  30  40  50  60  70  80  90 100\n"
          ],
          "name": "stdout"
        }
      ]
    },
    {
      "cell_type": "code",
      "metadata": {
        "colab": {
          "base_uri": "https://localhost:8080/"
        },
        "id": "coHl6fOHozvg",
        "outputId": "27276b5d-5c1b-4a66-84dd-158e5deac936"
      },
      "source": [
        "# TASK: function takes a list, sort them and transform into a list where pairs are used for all the detected intervals\n",
        "\n",
        "def detect_ranges(L):\n",
        "    list = sorted(L)\n",
        "    list_length = len(list)\n",
        "    ranges = []\n",
        "    i = 0\n",
        "    while i < list_length:\n",
        "        range_low = list[i]\n",
        "        range_high = list[i]\n",
        "        for j in list[i:]:\n",
        "            if j == list[i]+1:\n",
        "                range_high = j\n",
        "                i += 1\n",
        "        if range_low == range_high:\n",
        "            ranges.append(range_low)\n",
        "        else:\n",
        "            ranges.append((range_low, range_high+1))\n",
        "        i += 1\n",
        "    return ranges\n",
        "\n",
        "def main():\n",
        "    L = [2, 5, 4, 8, 12, 6, 7, 10, 13]\n",
        "    result = detect_ranges(L)\n",
        "    print(L)\n",
        "    print(result)\n",
        "\n",
        "if __name__ == \"__main__\":\n",
        "    main()\n",
        "\n",
        "detect_ranges([2,5,4,8,12,6,7,10,13])"
      ],
      "execution_count": 24,
      "outputs": [
        {
          "output_type": "stream",
          "text": [
            "[2, 5, 4, 8, 12, 6, 7, 10, 13]\n",
            "[2, (4, 9), 10, (12, 14)]\n"
          ],
          "name": "stdout"
        },
        {
          "output_type": "execute_result",
          "data": {
            "text/plain": [
              "[2, (4, 9), 10, (12, 14)]"
            ]
          },
          "metadata": {
            "tags": []
          },
          "execution_count": 24
        }
      ]
    },
    {
      "cell_type": "code",
      "metadata": {
        "colab": {
          "base_uri": "https://localhost:8080/"
        },
        "id": "qmUkq-WawBKt",
        "outputId": "ed4798c8-1fea-44e0-fa95-3c9f26ca9188"
      },
      "source": [
        "# TASK: function gets arbitrary number of lists as parameter and return lit containing all elements from the input\n",
        "\n",
        "def interleave(*lists):\n",
        "  new_list = []\n",
        "  z = zip(*lists)\n",
        "  for list in z:\n",
        "    len_list = len(list)\n",
        "    i = 0\n",
        "    while i < len_list: \n",
        "      j = list[i]\n",
        "      for j in list:\n",
        "        new_list.append(j)\n",
        "        i += 1\n",
        "  print(new_list)\n",
        "\n",
        "def interleave_easy(*lists):\n",
        "    lists_zipped = zip(*lists)\n",
        "    list = []\n",
        "    for i in lists_zipped:\n",
        "        list.extend(i) # extend the list\n",
        "    return list\n",
        "\n",
        "\n",
        "interleave([1,2,3], [20,30,40], ['a', 'b', 'c'])"
      ],
      "execution_count": 25,
      "outputs": [
        {
          "output_type": "stream",
          "text": [
            "[1, 20, 'a', 2, 30, 'b', 3, 40, 'c']\n"
          ],
          "name": "stdout"
        }
      ]
    },
    {
      "cell_type": "code",
      "metadata": {
        "id": "eRVv-qRw6YWy",
        "colab": {
          "base_uri": "https://localhost:8080/"
        },
        "outputId": "d6e84a35-d398-4468-9f53-5feac59e3777"
      },
      "source": [
        "# TASK: get index of the element using enumerate\n",
        "\n",
        "\n",
        "L=[1,2,98,5,-1,2,0,5,10]\n",
        "counter = 0\n",
        "for i, x in enumerate(L):\n",
        "    if x == 5:\n",
        "        counter += 1\n",
        "        if counter == 2:\n",
        "            break\n",
        "print(i)"
      ],
      "execution_count": 26,
      "outputs": [
        {
          "output_type": "stream",
          "text": [
            "7\n"
          ],
          "name": "stdout"
        }
      ]
    },
    {
      "cell_type": "code",
      "metadata": {
        "id": "wn5i_HuOmsJC",
        "colab": {
          "base_uri": "https://localhost:8080/"
        },
        "outputId": "bae702b5-fac2-4a03-952c-3f53459ddaf1"
      },
      "source": [
        "# TASK: sorted numbers and sort in reverse order, sort without using sorted\n",
        "\n",
        "num_ex1 = [1,32,12323,2,7, 56, 232, 4]\n",
        "\n",
        "# sort - num_ex1.sort() OR\n",
        "#print(sorted(num_ex1))\n",
        "\n",
        "# sort reverse\n",
        "#num_ex1.sort(reverse=True)\n",
        "#print(num_ex1)\n",
        "\n",
        "# sort without using build-in function\n",
        "new_list = []\n",
        "\n",
        "while num_ex1:\n",
        "    min = num_ex1[0]  \n",
        "    for x in num_ex1: \n",
        "        if x < min:\n",
        "            min = x\n",
        "    new_list.append(min)\n",
        "    num_ex1.remove(min)    \n",
        "\n",
        "print(new_list)"
      ],
      "execution_count": 27,
      "outputs": [
        {
          "output_type": "stream",
          "text": [
            "[1, 2, 4, 7, 32, 56, 232, 12323]\n"
          ],
          "name": "stdout"
        }
      ]
    },
    {
      "cell_type": "code",
      "metadata": {
        "id": "3x1mokIhnw6E",
        "colab": {
          "base_uri": "https://localhost:8080/"
        },
        "outputId": "793f759b-7ffb-4769-a79d-9560b846333e"
      },
      "source": [
        "# TASK: extract digits from string\n",
        "\n",
        "str02 = \"asd2cTTTfd543sdsd2\"\n",
        "for i in str02:\n",
        "  if i.isdigit():\n",
        "    print(i, end=' ')\n",
        "\n",
        "# check if strings contains only numbers str.isnumeric()\n",
        "# only letters str.isalpha()\n",
        "# numbers AND letters str.isalnum()"
      ],
      "execution_count": 28,
      "outputs": [
        {
          "output_type": "stream",
          "text": [
            "2 5 4 3 2 "
          ],
          "name": "stdout"
        }
      ]
    },
    {
      "cell_type": "code",
      "metadata": {
        "colab": {
          "base_uri": "https://localhost:8080/"
        },
        "id": "nA59vH7GK5LR",
        "outputId": "122198c8-c96a-4e11-c856-b4e749c5d148"
      },
      "source": [
        "# TASK: find word starting with smth from string\n",
        "\n",
        "str03 = \"I do it today\"\n",
        "s2 = str03.split()\n",
        "for i in s2:  \n",
        "  if i.startswith('d'): # ends - endswith\n",
        "    print(i)"
      ],
      "execution_count": 29,
      "outputs": [
        {
          "output_type": "stream",
          "text": [
            "do\n"
          ],
          "name": "stdout"
        }
      ]
    },
    {
      "cell_type": "code",
      "metadata": {
        "id": "8zAXBSg2nNuO",
        "colab": {
          "base_uri": "https://localhost:8080/"
        },
        "outputId": "e408eca7-2a74-4a76-8d39-9a7a8e1f6bb8"
      },
      "source": [
        "# TASK: palindrome\n",
        "\n",
        "def palindrome(word):\n",
        "    rev = word[::-1]\n",
        "    if word == rev:\n",
        "      return True\n",
        "    return False\n",
        "\n",
        "palindrome('madam')"
      ],
      "execution_count": 30,
      "outputs": [
        {
          "output_type": "execute_result",
          "data": {
            "text/plain": [
              "True"
            ]
          },
          "metadata": {
            "tags": []
          },
          "execution_count": 30
        }
      ]
    },
    {
      "cell_type": "code",
      "metadata": {
        "id": "i26FUZJ081OP",
        "colab": {
          "base_uri": "https://localhost:8080/"
        },
        "outputId": "1cebc8b8-f55d-4ee2-aa83-9d1e503263e8"
      },
      "source": [
        "# return prime numbers\n",
        "\n",
        "num_pm = range(100,200)\n",
        "\n",
        "def prime_n(smth):\n",
        "  list_pm = []\n",
        "  for i in num_pm:\n",
        "    if i > 1 and all(i%j!=0 for j in range(2,i)):\n",
        "        list_pm.append(i)\n",
        "  print(list_pm,end='')\n",
        "\n",
        "prime_n(num_pm)"
      ],
      "execution_count": 31,
      "outputs": [
        {
          "output_type": "stream",
          "text": [
            "[101, 103, 107, 109, 113, 127, 131, 137, 139, 149, 151, 157, 163, 167, 173, 179, 181, 191, 193, 197, 199]"
          ],
          "name": "stdout"
        }
      ]
    },
    {
      "cell_type": "code",
      "metadata": {
        "colab": {
          "base_uri": "https://localhost:8080/"
        },
        "id": "8Lq64d1BAofZ",
        "outputId": "2d237f3f-31cc-4a4b-8738-48b4f048d95d"
      },
      "source": [
        "# print duplicates\n",
        "\n",
        "list_dup = [1,2,5,3,1,4,9,4]\n",
        "\n",
        "\"\"\"def check_dup(self):\n",
        "  empty = []\n",
        "  dupl = []\n",
        "  for i in list_dup:\n",
        "      empty.append(i)\n",
        "      if empty.count(i) > 1:\n",
        "        dupl.append(i)\n",
        "  return dupl\n",
        "\n",
        "check_dup(list_dup)\"\"\"\n",
        "\n",
        "# effective way\n",
        "print(set([x for x in list_dup if list_dup.count(x) > 1]))\n",
        "\n"
      ],
      "execution_count": 32,
      "outputs": [
        {
          "output_type": "stream",
          "text": [
            "{1, 4}\n"
          ],
          "name": "stdout"
        }
      ]
    },
    {
      "cell_type": "code",
      "metadata": {
        "id": "uUBgNfyW6XqO",
        "colab": {
          "base_uri": "https://localhost:8080/"
        },
        "outputId": "a19ae144-4ae2-4a03-bd41-79c131f86f69"
      },
      "source": [
        "# FizzBuzz. Print numbers from 1 to 100. If it’s a multiplier of 3, print “fizz”\n",
        "# If it’s a multiplier of 5, print “buzz”. If both 3 and 5 — “fizzbuzz\". Otherwise, print the number itself \n",
        "\n",
        "num = range(1,100)\n",
        "for i in range(1,101):\n",
        "  if i % 3 == 0:\n",
        "    print(\"fizz\")\n",
        "  elif i % 5 == 0:\n",
        "    print(\"buzz\")\n",
        "  elif i % 3 == 0 and i % 5 == 0:\n",
        "    print(\"fizzbuzz\")\n",
        "  else:\n",
        "    print(i)"
      ],
      "execution_count": 33,
      "outputs": [
        {
          "output_type": "stream",
          "text": [
            "1\n",
            "2\n",
            "fizz\n",
            "4\n",
            "buzz\n",
            "fizz\n",
            "7\n",
            "8\n",
            "fizz\n",
            "buzz\n",
            "11\n",
            "fizz\n",
            "13\n",
            "14\n",
            "fizz\n",
            "16\n",
            "17\n",
            "fizz\n",
            "19\n",
            "buzz\n",
            "fizz\n",
            "22\n",
            "23\n",
            "fizz\n",
            "buzz\n",
            "26\n",
            "fizz\n",
            "28\n",
            "29\n",
            "fizz\n",
            "31\n",
            "32\n",
            "fizz\n",
            "34\n",
            "buzz\n",
            "fizz\n",
            "37\n",
            "38\n",
            "fizz\n",
            "buzz\n",
            "41\n",
            "fizz\n",
            "43\n",
            "44\n",
            "fizz\n",
            "46\n",
            "47\n",
            "fizz\n",
            "49\n",
            "buzz\n",
            "fizz\n",
            "52\n",
            "53\n",
            "fizz\n",
            "buzz\n",
            "56\n",
            "fizz\n",
            "58\n",
            "59\n",
            "fizz\n",
            "61\n",
            "62\n",
            "fizz\n",
            "64\n",
            "buzz\n",
            "fizz\n",
            "67\n",
            "68\n",
            "fizz\n",
            "buzz\n",
            "71\n",
            "fizz\n",
            "73\n",
            "74\n",
            "fizz\n",
            "76\n",
            "77\n",
            "fizz\n",
            "79\n",
            "buzz\n",
            "fizz\n",
            "82\n",
            "83\n",
            "fizz\n",
            "buzz\n",
            "86\n",
            "fizz\n",
            "88\n",
            "89\n",
            "fizz\n",
            "91\n",
            "92\n",
            "fizz\n",
            "94\n",
            "buzz\n",
            "fizz\n",
            "97\n",
            "98\n",
            "fizz\n",
            "buzz\n"
          ],
          "name": "stdout"
        }
      ]
    },
    {
      "cell_type": "code",
      "metadata": {
        "colab": {
          "base_uri": "https://localhost:8080/"
        },
        "id": "waKSYG0Kwd0a",
        "outputId": "d26096fe-253e-4ac3-c49b-ccd0f5dd9ab0"
      },
      "source": [
        "# mean\n",
        "\n",
        "#mean([4, 36, 45, 50, 75]) = 42\n",
        "\n",
        "import numpy as np\n",
        "\n",
        "n_mean = [4, 36, 45, 50, 75]\n",
        "\n",
        "# one solution\n",
        "#arr = np.array(n_mean)\n",
        "#arr.mean()\n",
        "\n",
        "# second solution\n",
        "\n",
        "count = 0\n",
        "for i in n_mean:\n",
        "  count += i\n",
        "mean1 = count/len(n_mean)\n",
        "print(mean1)"
      ],
      "execution_count": 34,
      "outputs": [
        {
          "output_type": "stream",
          "text": [
            "42.0\n"
          ],
          "name": "stdout"
        }
      ]
    },
    {
      "cell_type": "code",
      "metadata": {
        "colab": {
          "base_uri": "https://localhost:8080/"
        },
        "id": "ylsWhThV2gPm",
        "outputId": "375c0c30-1f28-498d-83a2-27380fe1d84e"
      },
      "source": [
        "#STD. Calculate the standard deviation of elements in a list. \n",
        "\n",
        "ar1 = [1, 2, 3, 4]\n",
        "\n",
        "# first solution\n",
        "#nar1 = np.array(ar1)\n",
        "#print(np.std(nar1))\n",
        "\n",
        "# second solution\n",
        "#import statistics as stat\n",
        "#std = stat.stdev(ar1)\n",
        "#print(std)\n",
        "\n",
        "# third solution\n",
        "\n",
        "avr = sum(ar1) / len(ar1)\n",
        "my_var = sum((i-avr)**2 for i in ar1) / (len(ar1)-1)\n",
        "my_std = my_var**0.5\n",
        "print(my_std)"
      ],
      "execution_count": 35,
      "outputs": [
        {
          "output_type": "stream",
          "text": [
            "1.2909944487358056\n"
          ],
          "name": "stdout"
        }
      ]
    },
    {
      "cell_type": "code",
      "metadata": {
        "id": "xnqUqFsy6yKi",
        "colab": {
          "base_uri": "https://localhost:8080/"
        },
        "outputId": "94e1e3ad-3df1-4120-bc52-c4220ae106aa"
      },
      "source": [
        "# RMSE\n",
        "\n",
        "import numpy as np\n",
        "\n",
        "rmse1 = ([1, 2], [1, 2])\n",
        "rmse2 = ([1, 2, 3], [3, 2, 1])\n",
        "\n",
        "arr1 = np.array(rmse2[0])\n",
        "arr2 = np.array(rmse2[1])\n",
        "\n",
        "print(np.sqrt(((arr1 - arr2) ** 2).mean()))"
      ],
      "execution_count": 36,
      "outputs": [
        {
          "output_type": "stream",
          "text": [
            "1.632993161855452\n"
          ],
          "name": "stdout"
        }
      ]
    },
    {
      "cell_type": "code",
      "metadata": {
        "id": "eEg6Y_D0Y7ZL",
        "colab": {
          "base_uri": "https://localhost:8080/"
        },
        "outputId": "d88565fd-5949-4ac8-8b0e-e9e6d872c46d"
      },
      "source": [
        "# true false\n",
        "\n",
        "check = ([1, 2, 3, -1], 5)\n",
        "\n",
        "def checkf(mlist):\n",
        "  if sum(mlist[0]) == check[1]:\n",
        "    return True\n",
        "  return False\n",
        "\n",
        "checkf(check)"
      ],
      "execution_count": 37,
      "outputs": [
        {
          "output_type": "execute_result",
          "data": {
            "text/plain": [
              "True"
            ]
          },
          "metadata": {
            "tags": []
          },
          "execution_count": 37
        }
      ]
    },
    {
      "cell_type": "code",
      "metadata": {
        "colab": {
          "base_uri": "https://localhost:8080/",
          "height": 265
        },
        "id": "x2DmZXIqab8C",
        "outputId": "3df9c199-a810-430a-915d-c29b061c0a2e"
      },
      "source": [
        "# two dices\n",
        "\n",
        "import matplotlib.pyplot as plt\n",
        "import seaborn as sns\n",
        "import numpy as np\n",
        "plt.style.use('ggplot')\n",
        "%matplotlib inline\n",
        "np.random.seed(1738)\n",
        "d1 = np.array([1, 2])\n",
        "d2 = np.array([1, 2, 3, 4])\n",
        "sums = []\n",
        "for _ in range(500):\n",
        "  roll_1 = np.random.choice(d1)\n",
        "  roll_2 = np.random.choice(d2)\n",
        "  sums.append(roll_1 + roll_2)\n",
        "\n",
        "plt.hist(sums)\n",
        "plt.show()"
      ],
      "execution_count": 38,
      "outputs": [
        {
          "output_type": "display_data",
          "data": {
            "image/png": "[encoded data removed]",
            "text/plain": [
              "<Figure size 432x288 with 1 Axes>"
            ]
          },
          "metadata": {
            "tags": [],
            "needs_background": "light"
          }
        }
      ]
    },
    {
      "cell_type": "code",
      "metadata": {
        "colab": {
          "base_uri": "https://localhost:8080/"
        },
        "id": "fQBJOmYikYiI",
        "outputId": "08e1c655-39d5-4bcb-81b2-e384b682c0a7"
      },
      "source": [
        "# make from [1,2] 12 and so on\n",
        "\n",
        "mylist = [1, 0,0,0]\n",
        "\n",
        "s1 = list(map(str,mylist))\n",
        "s2 = ''.join(s1)\n",
        "s3 = int(s2)\n",
        "s3"
      ],
      "execution_count": 39,
      "outputs": [
        {
          "output_type": "execute_result",
          "data": {
            "text/plain": [
              "1000"
            ]
          },
          "metadata": {
            "tags": []
          },
          "execution_count": 39
        }
      ]
    }
  ]
}