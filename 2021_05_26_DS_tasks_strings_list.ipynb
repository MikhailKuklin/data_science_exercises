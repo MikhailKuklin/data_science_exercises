{
  "nbformat": 4,
  "nbformat_minor": 0,
  "metadata": {
    "colab": {
      "name": "2021_05_26_DS_tasks_strings_list.ipynb",
      "provenance": [],
      "toc_visible": true,
      "authorship_tag": "ABX9TyOut9574tS8EwD7kOyoGDNz",
      "include_colab_link": true
    },
    "kernelspec": {
      "name": "python3",
      "display_name": "Python 3"
    },
    "language_info": {
      "name": "python"
    }
  },
  "cells": [
    {
      "cell_type": "markdown",
      "metadata": {
        "id": "view-in-github",
        "colab_type": "text"
      },
      "source": [
        "<a href=\"https://colab.research.google.com/github/MikhailKuklin/data_science_exercises/blob/main/2021_05_26_DS_tasks_strings_list.ipynb\" target=\"_parent\"><img src=\"https://colab.research.google.com/assets/colab-badge.svg\" alt=\"Open In Colab\"/></a>"
      ]
    },
    {
      "cell_type": "markdown",
      "metadata": {
        "id": "lQZK57is8z2V"
      },
      "source": [
        "# Lists, strings"
      ]
    },
    {
      "cell_type": "code",
      "metadata": {
        "id": "S4IVBTiIPnYb",
        "colab": {
          "base_uri": "https://localhost:8080/"
        },
        "outputId": "9da9970c-15f4-45ca-d258-0adde1bf1a30"
      },
      "source": [
        "#TASK: replace \"Alisha\" using negative index on \"Alex\"\n",
        "\n",
        "# Solution without positional argument unpacking\n",
        "\n",
        "garden_waitlist = [\"Jiho\", \"Adam\", \"Sonny\", \"Alisha\"]\n",
        "\n",
        "def get_index(mylist, name):\n",
        "  \"The function replace item in the list\"\n",
        "  for i in mylist:\n",
        "    if i == name:\n",
        "      a = ~mylist[::-1].index(i)\n",
        "      return a\n",
        "\n",
        "print(get_index.__doc__) # print docstring\n",
        "print(get_index(garden_waitlist, \"Alisha\"))"
      ],
      "execution_count": null,
      "outputs": [
        {
          "output_type": "stream",
          "text": [
            "The function replace item in the list\n",
            "-1\n"
          ],
          "name": "stdout"
        }
      ]
    },
    {
      "cell_type": "code",
      "metadata": {
        "colab": {
          "base_uri": "https://localhost:8080/"
        },
        "id": "dpBqz2KEUm5y",
        "outputId": "4a5a18f5-48a7-43b0-b4bb-81f1e6b1d29f"
      },
      "source": [
        "#TASK: replace \"Alisha\" using negative index on \"Alex\"\n",
        "\n",
        "# Solution with positional argument unpacking\n",
        "\n",
        "waitlist = [\"Jane\", \"Adam\", \"Alex\", \"Mike\"]\n",
        "\n",
        "def get_index(mylist, *names):\n",
        "  for name in names:\n",
        "    for i in mylist:\n",
        "      if i == name:\n",
        "        neg_ind = ~mylist[::-1].index(i)\n",
        "        print(f\"String {name} has {neg_ind} index in the list\")\n",
        "        \n",
        "get_index(waitlist,  \"Jane\", \"Mike\")"
      ],
      "execution_count": null,
      "outputs": [
        {
          "output_type": "stream",
          "text": [
            "String Jane has -4 index in the list\n",
            "String Mike has -1 index in the list\n"
          ],
          "name": "stdout"
        }
      ]
    },
    {
      "cell_type": "code",
      "metadata": {
        "colab": {
          "base_uri": "https://localhost:8080/"
        },
        "id": "jOlFXbAiovF5",
        "outputId": "5ad3fa0b-51b7-4a2e-b31a-4cdb2cf7f52b"
      },
      "source": [
        "#TASK: return a list with unique items only\n",
        "\n",
        "new_store_order_list = [\"Orange\", \"Apple\", \"Mango\", \"Broccoli\", \"Mango\"]\n",
        "\n",
        "def unique(mylist):\n",
        "  uniq_list = []\n",
        "  for name in mylist:\n",
        "    if name in uniq_list:\n",
        "      continue\n",
        "    else:\n",
        "      uniq_list.append(name)\n",
        "  return uniq_list\n",
        "\n",
        "print(unique(new_store_order_list))"
      ],
      "execution_count": null,
      "outputs": [
        {
          "output_type": "stream",
          "text": [
            "['Orange', 'Apple', 'Mango', 'Broccoli']\n"
          ],
          "name": "stdout"
        }
      ]
    },
    {
      "cell_type": "code",
      "metadata": {
        "colab": {
          "base_uri": "https://localhost:8080/"
        },
        "id": "PrM6nxNf0Qfy",
        "outputId": "6ec37a3d-923b-4551-eec5-58043914d6e1"
      },
      "source": [
        "# TASK: count number of occurancies of letter(s) in a string\n",
        "\n",
        "order_list = [\"Celery\", \"Orange Juice\", \"Orange\", \"Flatbread\"]\n",
        "\n",
        "def count_occ(mylist, *letters):\n",
        "  str1 = list(' '.join(mylist)) # divide into letter\n",
        "  mylist_let = ' '.join(str1).lower() # make a string ignoring capitalization\n",
        "  count = 0\n",
        "  for letter in letters:\n",
        "    for i in mylist_let:\n",
        "        if i == letter:\n",
        "          count += 1\n",
        "    print(f\"Number of occurancies of {letter} is {count}\")\n",
        "  \n",
        "count_occ(order_list, 'a', 'b')\n",
        "\n",
        "# Using build-in function: mylist_let.count('a')"
      ],
      "execution_count": null,
      "outputs": [
        {
          "output_type": "stream",
          "text": [
            "Number of occurancies of a is 4\n",
            "Number of occurancies of b is 5\n"
          ],
          "name": "stdout"
        }
      ]
    },
    {
      "cell_type": "code",
      "metadata": {
        "colab": {
          "base_uri": "https://localhost:8080/"
        },
        "id": "gWhhE8gWi-rI",
        "outputId": "0d1595d9-2bc5-43ed-e90f-b7451c0eea18"
      },
      "source": [
        "# TASK: count number of occurancies of letter(s) in a string using count()\n",
        "\n",
        "order_list = [\"Celery\", \"Orange Juice\", \"Orange\", \"Flatbread\"]\n",
        "\n",
        "letter = 'a'\n",
        "\n",
        "let = ' '.join(order_list)\n",
        "count = [i for i in let if i == letter]\n",
        "print(len(count))"
      ],
      "execution_count": null,
      "outputs": [
        {
          "output_type": "stream",
          "text": [
            "4\n"
          ],
          "name": "stdout"
        }
      ]
    },
    {
      "cell_type": "code",
      "metadata": {
        "colab": {
          "base_uri": "https://localhost:8080/"
        },
        "id": "uif2DYnV4q2Y",
        "outputId": "51dd8867-8431-45ea-bbbf-4008db09267b"
      },
      "source": [
        "# TASK: count number of occurancies of words in a string\n",
        "\n",
        "order_list = [\"Celery\", \"Orange Juice\", \"Orange\", \"Flatbread\"]\n",
        "\n",
        "def count_occ(mylist, *words):\n",
        "  str2 = ' '.join(mylist).lower().split() # make a string ignoring capitalization\n",
        "  count = 0\n",
        "  for word in words:\n",
        "    for i in str2:\n",
        "        if i == word:\n",
        "          count += 1\n",
        "    print(f\"Number of occurancies of {word} is {count}\")\n",
        "  \n",
        "count_occ(order_list, 'orange')"
      ],
      "execution_count": null,
      "outputs": [
        {
          "output_type": "stream",
          "text": [
            "Number of occurancies of orange is 2\n"
          ],
          "name": "stdout"
        }
      ]
    },
    {
      "cell_type": "code",
      "metadata": {
        "id": "vC3zQD77EGGB"
      },
      "source": [
        "# TASK: write a script to mimic Fibonacci series\n",
        "\n",
        "def Fib(num):\n",
        "  if num == 0:\n",
        "    return 0\n",
        "  if num == 1:\n",
        "    return 1\n",
        "  else:\n",
        "    return Fib(num-1)+Fib(num-2)\n",
        "\n",
        "import numpy as np\n",
        "\n",
        "list_fib = []\n",
        "for i in range(15):\n",
        "  list_fib.append(Fib(i))\n",
        "\n",
        "\"\"\"num = range(15)\n",
        "list_fib2 = map(lambda fib: Fib(i),num)\n",
        "print(list(list_fib2))\"\"\"\n",
        "\n",
        "from matplotlib import pyplot as plt\n",
        "\n",
        "plt.plot(list_fib, color = 'red')\n",
        "plt.ylabel('Fibonacci seris')\n",
        "plt.show()"
      ],
      "execution_count": null,
      "outputs": []
    },
    {
      "cell_type": "code",
      "metadata": {
        "colab": {
          "base_uri": "https://localhost:8080/"
        },
        "id": "FSfbamhAbmwc",
        "outputId": "d5a21ff2-8471-4a7a-f949-a624de42855a"
      },
      "source": [
        "# TASK: get length of word(s)\n",
        "\n",
        "def get_length(*words):\n",
        "  count = 0\n",
        "  for word in words:\n",
        "    for i in word:\n",
        "      count += 1\n",
        "    print(f\"Length of {word} is {count}\")\n",
        "\n",
        "get_length('blablbalba', \"mike\")"
      ],
      "execution_count": null,
      "outputs": [
        {
          "output_type": "stream",
          "text": [
            "Length of blablbalba is 10\n",
            "Length of mike is 14\n"
          ],
          "name": "stdout"
        }
      ]
    },
    {
      "cell_type": "code",
      "metadata": {
        "id": "st5tLuf47LNP"
      },
      "source": [
        "# TASK: combine lists and sort them\n",
        "\n",
        "list1 = [4, 23, 3434, -4]\n",
        "list2 = [23232, 2, 23, -92323, 0]\n",
        "\n",
        "def combine_sort(*lists):\n",
        "  c_list = []\n",
        "  for i in lists:\n",
        "    c_list += i\n",
        "  c_list.sort() #OR c_list2 = sorted(c_list). Reversed = sort(reverse=True)\n",
        "  return c_list2\n",
        "\n",
        "combine_sort(list1, list2)"
      ],
      "execution_count": null,
      "outputs": []
    },
    {
      "cell_type": "code",
      "metadata": {
        "colab": {
          "base_uri": "https://localhost:8080/"
        },
        "id": "k8UkjndEL1XD",
        "outputId": "f9c05ccc-4142-40b1-88a0-54ba10490951"
      },
      "source": [
        "# TASK: double item with required index in the list\n",
        "\n",
        "def double_index(lst,index):\n",
        "  if index >= len(lst):\n",
        "    return lst\n",
        "  else:\n",
        "    new_list = []\n",
        "    for i in range(index):\n",
        "        new_list.append(lst[i])\n",
        "    new_list.append(lst[index]*2)\n",
        "    for i in range(index+1, len(lst)):\n",
        "        new_list.append(lst[i])\n",
        "    return new_list\n",
        "\n",
        "print(double_index([3, 8, -10, 12], 2))"
      ],
      "execution_count": null,
      "outputs": [
        {
          "output_type": "stream",
          "text": [
            "[3, 8, -20, 12]\n"
          ],
          "name": "stdout"
        }
      ]
    },
    {
      "cell_type": "code",
      "metadata": {
        "colab": {
          "base_uri": "https://localhost:8080/"
        },
        "id": "jfXyhNr6PBhF",
        "outputId": "e40188cf-31d1-4d05-b6e8-e54a42e04009"
      },
      "source": [
        "# TASK: return sum of middle items\n",
        "\n",
        "def middle_element(lst):\n",
        "  if len(lst) % 2 == 0:\n",
        "    m = int(len(lst)/2)\n",
        "    aver = int((lst[m-1] + lst[m])/2)\n",
        "    return aver\n",
        "  else:\n",
        "    return lst[int(len(lst)/2)]\n",
        "\n",
        "print(middle_element([5, 2, -10, -4, 4, 5]))"
      ],
      "execution_count": null,
      "outputs": [
        {
          "output_type": "stream",
          "text": [
            "-7\n"
          ],
          "name": "stdout"
        }
      ]
    },
    {
      "cell_type": "code",
      "metadata": {
        "colab": {
          "base_uri": "https://localhost:8080/"
        },
        "id": "j9i4JWWXVdOg",
        "outputId": "4b2cb7f9-3852-4ea5-c799-c93826aca497"
      },
      "source": [
        "# TASK: remove starting even numbers\n",
        "\n",
        "def delete_starting_evens(lst):\n",
        "  while (len(lst) > 0 and lst[0] % 2 == 0):\n",
        "    lst = lst[1:]\n",
        "  return lst\n",
        "\n",
        "#Uncomment the lines below when your function is done\n",
        "print(delete_starting_evens([4, 8, 10, 11, 12, 15]))"
      ],
      "execution_count": null,
      "outputs": [
        {
          "output_type": "stream",
          "text": [
            "[11, 12, 15]\n"
          ],
          "name": "stdout"
        }
      ]
    },
    {
      "cell_type": "code",
      "metadata": {
        "colab": {
          "base_uri": "https://localhost:8080/"
        },
        "id": "SG2CeVioXlyI",
        "outputId": "dce570ec-6309-49e4-9044-69672d1b5e29"
      },
      "source": [
        "# TASK: return the list of elements which have odd indices\n",
        "\n",
        "def odd_indices(lst):\n",
        "  new = []\n",
        "  for i in range(len(lst)):\n",
        "    if i % 2 != 0:\n",
        "      new.append(lst[i])\n",
        "  return new\n",
        "\n",
        "print(odd_indices([4, 3, 7, 10, 11, -2]))"
      ],
      "execution_count": null,
      "outputs": [
        {
          "output_type": "stream",
          "text": [
            "[3, 10, -2]\n"
          ],
          "name": "stdout"
        }
      ]
    },
    {
      "cell_type": "code",
      "metadata": {
        "id": "Rtwr5Jexb0hO"
      },
      "source": [
        "# TASK: return maximum and minimum values in the list\n",
        "# Lazy way: min(), max()\n",
        "def extremes(nums):\n",
        "  max = nums[0]\n",
        "  min = nums[0]\n",
        "  for i in nums:\n",
        "    if i > max:\n",
        "      max = i\n",
        "    elif i < min:\n",
        "      min = i\n",
        "  print(f\"Maximum: {max} \\nMinimum: {min}\")\n",
        "\n",
        "extremes([50, -10, 0, 75, 20])"
      ],
      "execution_count": null,
      "outputs": []
    },
    {
      "cell_type": "code",
      "metadata": {
        "id": "m5wxgOZqeYb5"
      },
      "source": [
        "# TASK: check if two lists have same values and return indices\n",
        "\n",
        "def same_values(lst1, lst2):\n",
        "  list = []\n",
        "  for i in range(len(lst1)):\n",
        "      if lst1[i] == lst2[i]:\n",
        "        list.append(i)\n",
        "  return list\n",
        "\n",
        "print(same_values([5, 1, -10, 3, 3], [5, 10, -10, 3, 5]))"
      ],
      "execution_count": null,
      "outputs": []
    },
    {
      "cell_type": "code",
      "metadata": {
        "id": "ytSxfF1Z7hEV"
      },
      "source": [
        "# TASK: check if list is the same in reversed order\n",
        "\n",
        "def reversed_list(lst1,lst2):\n",
        "  for i in range(len(lst1)):\n",
        "      neg = ~lst1.index(lst1[i]) # OR neg = len(lst1) - 1 - i\n",
        "      print(neg)\n",
        "      if lst1[i] != lst2[neg]:\n",
        "        return False\n",
        "  return True\n",
        "\n",
        "print(reversed_list([1, 2, 3], [3, 2, 1]))"
      ],
      "execution_count": null,
      "outputs": []
    },
    {
      "cell_type": "code",
      "metadata": {
        "colab": {
          "base_uri": "https://localhost:8080/"
        },
        "id": "OjSpROXVDkIL",
        "outputId": "68a6b81d-c36d-45d8-d631-ed55a026c51b"
      },
      "source": [
        "# TASK: count number of fragments in word\n",
        "\n",
        "def count_multi_char_x(word, x):\n",
        "  splits = word.split(x)\n",
        "  return(len(splits)-1)\n",
        "\n",
        "print(count_multi_char_x(\"mississippi\", \"iss\"))"
      ],
      "execution_count": null,
      "outputs": [
        {
          "output_type": "stream",
          "text": [
            "2\n"
          ],
          "name": "stdout"
        }
      ]
    },
    {
      "cell_type": "code",
      "metadata": {
        "colab": {
          "base_uri": "https://localhost:8080/"
        },
        "id": "1tMPYZQ48_I9",
        "outputId": "ace0d8bd-f84a-471f-fb8c-958de69785e0"
      },
      "source": [
        "# TASK: count number of unique letter in word using set\n",
        "\n",
        "s=\"mississippi\"\n",
        "print(f\"There are {len(set(s))} distinct characters in {s}\")"
      ],
      "execution_count": null,
      "outputs": [
        {
          "output_type": "stream",
          "text": [
            "There are 4 distinct characters in mississippi\n"
          ],
          "name": "stdout"
        }
      ]
    },
    {
      "cell_type": "code",
      "metadata": {
        "id": "_voSg6UELWcM"
      },
      "source": [
        "# TASK: print fragment between two strings\n",
        "\n",
        "def substring_between_letters(word,start,end):\n",
        "  final=\"\"\n",
        "  for i in word:\n",
        "    if start == i:\n",
        "      s = str(i)\n",
        "      ind = word.index(s)\n",
        "      wordn=word[ind+1:]\n",
        "  for i in wordn:\n",
        "      if end == i:\n",
        "          s = str(i)\n",
        "          ind = wordn.index(s)\n",
        "          final = wordn[:ind]\n",
        "  if start not in word or end not in word:\n",
        "    return word\n",
        "  else:\n",
        "    return final\n",
        "      \n",
        "print(substring_between_letters(\"apple\", \"p\", \"e\"))"
      ],
      "execution_count": null,
      "outputs": []
    },
    {
      "cell_type": "code",
      "metadata": {
        "colab": {
          "base_uri": "https://localhost:8080/"
        },
        "id": "QAwrn4F3jpVy",
        "outputId": "ba7c1db6-4235-4401-b0f4-496497ccd0af"
      },
      "source": [
        "# TASK: print fragment between two strings using find()\n",
        "\n",
        "def substring_between_letters(word, start, end):\n",
        "  start_ind = word.find(start)\n",
        "  end_ind = word.find(end)\n",
        "  if start_ind > -1 and end_ind > -1:\n",
        "    return(word[start_ind+1:end_ind])\n",
        "  return word\n",
        "\n",
        "print(substring_between_letters(\"apple\", \"p\", \"e\"))"
      ],
      "execution_count": null,
      "outputs": [
        {
          "output_type": "stream",
          "text": [
            "pl\n"
          ],
          "name": "stdout"
        }
      ]
    },
    {
      "cell_type": "code",
      "metadata": {
        "id": "4XQ-xRgPmh6C",
        "colab": {
          "base_uri": "https://localhost:8080/"
        },
        "outputId": "7ad0b4c0-1d23-4058-8631-fdc3c2751c23"
      },
      "source": [
        "# TASK: reverse order - string or list of numbers\n",
        "\n",
        "def reverse_string(word):\n",
        "  str = \"\"\n",
        "  for i in range(len(word)-1, -1, -1):\n",
        "    str += word[i]\n",
        "  return str\n",
        "\n",
        "def reverse_numbers(list):\n",
        "  l = [] # OR l = list[::-1]\n",
        "  for i in range(len(list)-1, -1, -1): \n",
        "    l.append(list[i])\n",
        "  return l\n",
        "\n",
        "\n",
        "print(reverse_string(\"Exercise\"))\n",
        "print(reverse_numbers([1,2,3,4]))"
      ],
      "execution_count": null,
      "outputs": [
        {
          "output_type": "stream",
          "text": [
            "esicrexE\n",
            "[4, 3, 2, 1]\n"
          ],
          "name": "stdout"
        }
      ]
    },
    {
      "cell_type": "code",
      "metadata": {
        "id": "dVqeWuyZZVFg"
      },
      "source": [
        "# TASK: make a multiplication table\n",
        "\n",
        "def mul_table(num, list):\n",
        "  for i in list:\n",
        "    print(f\"{num} multiplied by {i} is {i*num}\")\n",
        "\n",
        "mul_table(4, [0,1,2,3,4,5,6,7,8,9,10])"
      ],
      "execution_count": null,
      "outputs": []
    },
    {
      "cell_type": "code",
      "metadata": {
        "id": "MZguHuoXbrTK"
      },
      "source": [
        "# TASK: make a multiplication table\n",
        "\n",
        "def mul_table(list):\n",
        "  for i in list:\n",
        "    for j in list:\n",
        "      print(f\"{i*j:4d}\", end = '')\n",
        "    print('')\n",
        "\n",
        "mul_table([1,2,3,4,5,6,7,8,9,10])"
      ],
      "execution_count": null,
      "outputs": []
    },
    {
      "cell_type": "code",
      "metadata": {
        "colab": {
          "base_uri": "https://localhost:8080/"
        },
        "id": "coHl6fOHozvg",
        "outputId": "92e5408a-0eba-46f3-971a-8e3c5a884354"
      },
      "source": [
        "# TASK: function takes a list, sort them and transform into a list where pairs are used for all the detected intervals\n",
        "\n",
        "def detect_ranges(L):\n",
        "    list = sorted(L)\n",
        "    list_length = len(list)\n",
        "    ranges = []\n",
        "    i = 0\n",
        "    while i < list_length:\n",
        "        range_low = list[i]\n",
        "        range_high = list[i]\n",
        "        for j in list[i:]:\n",
        "            if j == list[i]+1:\n",
        "                range_high = j\n",
        "                i += 1\n",
        "        if range_low == range_high:\n",
        "            ranges.append(range_low)\n",
        "        else:\n",
        "            ranges.append((range_low, range_high+1))\n",
        "        i += 1\n",
        "    return ranges\n",
        "\n",
        "def main():\n",
        "    L = [2, 5, 4, 8, 12, 6, 7, 10, 13]\n",
        "    result = detect_ranges(L)\n",
        "    print(L)\n",
        "    print(result)\n",
        "\n",
        "if __name__ == \"__main__\":\n",
        "    main()\n",
        "\n",
        "detect_ranges([2,5,4,8,12,6,7,10,13])"
      ],
      "execution_count": null,
      "outputs": [
        {
          "output_type": "stream",
          "text": [
            "[2, 5, 4, 8, 12, 6, 7, 10, 13]\n",
            "[2, (4, 9), 10, (12, 14)]\n"
          ],
          "name": "stdout"
        },
        {
          "output_type": "execute_result",
          "data": {
            "text/plain": [
              "[2, (4, 9), 10, (12, 14)]"
            ]
          },
          "metadata": {
            "tags": []
          },
          "execution_count": 27
        }
      ]
    },
    {
      "cell_type": "code",
      "metadata": {
        "colab": {
          "base_uri": "https://localhost:8080/"
        },
        "id": "qmUkq-WawBKt",
        "outputId": "3fabb719-7e88-4cbb-ce70-fddb915eb18e"
      },
      "source": [
        "# TASK: function gets arbitrary number of lists as parameter and return lit containing all elements from the input\n",
        "\n",
        "def interleave(*lists):\n",
        "  new_list = []\n",
        "  z = zip(*lists)\n",
        "  for list in z:\n",
        "    len_list = len(list)\n",
        "    i = 0\n",
        "    while i < len_list: \n",
        "      j = list[i]\n",
        "      for j in list:\n",
        "        print(j)\n",
        "        new_list.append(j)\n",
        "        i += 1\n",
        "  print(new_list)\n",
        "\n",
        "def interleave_easy(*lists):\n",
        "    lists_zipped = zip(*lists)\n",
        "    list = []\n",
        "    for i in lists_zipped:\n",
        "        list.extend(i) # extend the list\n",
        "    return list\n",
        "\n",
        "\n",
        "interleave_easy([1,2,3], [20,30,40], ['a', 'b', 'c'])"
      ],
      "execution_count": null,
      "outputs": [
        {
          "output_type": "execute_result",
          "data": {
            "text/plain": [
              "[1, 20, 'a', 2, 30, 'b', 3, 40, 'c']"
            ]
          },
          "metadata": {
            "tags": []
          },
          "execution_count": 85
        }
      ]
    },
    {
      "cell_type": "code",
      "metadata": {
        "id": "eRVv-qRw6YWy"
      },
      "source": [
        "# TASK: get index of the element using enumerate\n",
        "\n",
        "\n",
        "L=[1,2,98,5,-1,2,0,5,10]\n",
        "counter = 0\n",
        "for i, x in enumerate(L):\n",
        "    if x == 5:\n",
        "        counter += 1\n",
        "        if counter == 2:\n",
        "            break\n",
        "print(i)"
      ],
      "execution_count": null,
      "outputs": []
    },
    {
      "cell_type": "code",
      "metadata": {
        "id": "wn5i_HuOmsJC",
        "colab": {
          "base_uri": "https://localhost:8080/"
        },
        "outputId": "4ef0c597-6115-48de-cf76-48a30926684c"
      },
      "source": [
        "# TASK: sorted numbers and sort in reverse order, sort without using sorted\n",
        "\n",
        "num_ex1 = [1,32,12323,2,7, 56, 232, 4]\n",
        "\n",
        "# sort - num_ex1.sort() OR\n",
        "#print(sorted(num_ex1))\n",
        "\n",
        "# sort reverse\n",
        "#num_ex1.sort(reverse=True)\n",
        "#print(num_ex1)\n",
        "\n",
        "# sort without using build-in function\n",
        "new_list = []\n",
        "\n",
        "while num_ex1:\n",
        "    min = num_ex1[0]  \n",
        "    for x in num_ex1: \n",
        "        if x < min:\n",
        "            min = x\n",
        "    new_list.append(min)\n",
        "    num_ex1.remove(min)    \n",
        "\n",
        "print(new_list)"
      ],
      "execution_count": null,
      "outputs": [
        {
          "output_type": "stream",
          "text": [
            "[1, 2, 4, 7, 32, 56, 232, 12323]\n"
          ],
          "name": "stdout"
        }
      ]
    },
    {
      "cell_type": "code",
      "metadata": {
        "id": "3x1mokIhnw6E"
      },
      "source": [
        "# TASK: extract digits from string\n",
        "\n",
        "str = \"asd2cTTTfd543sdsd2\"\n",
        "for i in str:\n",
        "  if i.isdigit():\n",
        "    print(i)\n",
        "\n",
        "# check if strings contains only numbers str.isnumeric()\n",
        "# only letters str.isalpha()\n",
        "# numbers AND letters str.isalnum()"
      ],
      "execution_count": null,
      "outputs": []
    },
    {
      "cell_type": "code",
      "metadata": {
        "colab": {
          "base_uri": "https://localhost:8080/"
        },
        "id": "nA59vH7GK5LR",
        "outputId": "3359a211-d32a-4464-bde2-faf8eb9ef6a7"
      },
      "source": [
        "# TASK: find word starting with smth from string\n",
        "\n",
        "str = \"I do it today\"\n",
        "s2 = str.split()\n",
        "for i in s2:  \n",
        "  if i.startswith('d'): # ends - endswith\n",
        "    print(i)"
      ],
      "execution_count": null,
      "outputs": [
        {
          "output_type": "stream",
          "text": [
            "do\n"
          ],
          "name": "stdout"
        }
      ]
    },
    {
      "cell_type": "code",
      "metadata": {
        "id": "8zAXBSg2nNuO",
        "colab": {
          "base_uri": "https://localhost:8080/"
        },
        "outputId": "636d19d4-32cb-41a4-ae58-94f4865c4e5d"
      },
      "source": [
        "# TASK: palindrome\n",
        "\n",
        "def palindrome(word):\n",
        "    rev = word[::-1]\n",
        "    if word == rev:\n",
        "      return True\n",
        "    return False\n",
        "\n",
        "palindrome('madam')"
      ],
      "execution_count": null,
      "outputs": [
        {
          "output_type": "execute_result",
          "data": {
            "text/plain": [
              "True"
            ]
          },
          "metadata": {
            "tags": []
          },
          "execution_count": 5
        }
      ]
    },
    {
      "cell_type": "code",
      "metadata": {
        "id": "i26FUZJ081OP"
      },
      "source": [
        "# return prime numbers\n",
        "\n",
        "num_pm = range(100,200)\n",
        "\n",
        "def prime_n(smth):\n",
        "  list_pm = []\n",
        "  for i in num_pm:\n",
        "    if i > 1 and all(i%j!=0 for j in range(2,i)):\n",
        "        list_pm.append(i)\n",
        "  return list_pm\n",
        "\n",
        "prime_n(num_pm)"
      ],
      "execution_count": null,
      "outputs": []
    },
    {
      "cell_type": "code",
      "metadata": {
        "colab": {
          "base_uri": "https://localhost:8080/"
        },
        "id": "8Lq64d1BAofZ",
        "outputId": "08ec09cc-638c-42c8-b16f-f0a80c51e251"
      },
      "source": [
        "# print duplicates\n",
        "\n",
        "list_dup = [1,2,5,3,1,4,9,4]\n",
        "\n",
        "\"\"\"def check_dup(self):\n",
        "  empty = []\n",
        "  dupl = []\n",
        "  for i in list_dup:\n",
        "      empty.append(i)\n",
        "      if empty.count(i) > 1:\n",
        "        dupl.append(i)\n",
        "  return dupl\n",
        "\n",
        "check_dup(list_dup)\"\"\"\n",
        "\n",
        "# effective way\n",
        "print(set([x for x in list_dup if list_dup.count(x) > 1]))\n",
        "\n"
      ],
      "execution_count": null,
      "outputs": [
        {
          "output_type": "stream",
          "text": [
            "{1, 4}\n"
          ],
          "name": "stdout"
        }
      ]
    },
    {
      "cell_type": "code",
      "metadata": {
        "id": "uUBgNfyW6XqO"
      },
      "source": [
        "# FizzBuzz. Print numbers from 1 to 100. If it’s a multiplier of 3, print “fizz”\n",
        "# If it’s a multiplier of 5, print “buzz”. If both 3 and 5 — “fizzbuzz\". Otherwise, print the number itself \n",
        "\n",
        "num = range(1,100)\n",
        "for i in range(1,101):\n",
        "  if i % 3 == 0:\n",
        "    print(\"fizz\")\n",
        "  elif i % 5 == 0:\n",
        "    print(\"buzz\")\n",
        "  elif i % 3 == 0 and i % 5 == 0:\n",
        "    print(\"fizzbuzz\")\n",
        "  else:\n",
        "    print(i)"
      ],
      "execution_count": null,
      "outputs": []
    },
    {
      "cell_type": "code",
      "metadata": {
        "colab": {
          "base_uri": "https://localhost:8080/"
        },
        "id": "waKSYG0Kwd0a",
        "outputId": "86f22429-9f90-4cb6-e702-f2dbfdfc0612"
      },
      "source": [
        "# mean\n",
        "\n",
        "#mean([4, 36, 45, 50, 75]) = 42\n",
        "\n",
        "import numpy as np\n",
        "\n",
        "n_mean = [4, 36, 45, 50, 75]\n",
        "\n",
        "# one solution\n",
        "#arr = np.array(n_mean)\n",
        "#arr.mean()\n",
        "\n",
        "# second solution\n",
        "\n",
        "count = 0\n",
        "for i in n_mean:\n",
        "  count += i\n",
        "mean1 = count/len(n_mean)\n",
        "print(mean1)"
      ],
      "execution_count": null,
      "outputs": [
        {
          "output_type": "stream",
          "text": [
            "42.0\n"
          ],
          "name": "stdout"
        }
      ]
    },
    {
      "cell_type": "code",
      "metadata": {
        "colab": {
          "base_uri": "https://localhost:8080/"
        },
        "id": "ylsWhThV2gPm",
        "outputId": "4ec7e934-acbc-4ee3-c245-9f6c2d1d932f"
      },
      "source": [
        "#STD. Calculate the standard deviation of elements in a list. \n",
        "\n",
        "ar1 = [1, 2, 3, 4]\n",
        "\n",
        "# first solution\n",
        "#nar1 = np.array(ar1)\n",
        "#print(np.std(nar1))\n",
        "\n",
        "# second solution\n",
        "#import statistics as stat\n",
        "#std = stat.stdev(ar1)\n",
        "#print(std)\n",
        "\n",
        "# third solution\n",
        "\n",
        "avr = sum(ar1) / len(ar1)\n",
        "my_var = sum((i-avr)**2 for i in ar1) / (len(ar1)-1)\n",
        "my_std = my_var**0.5\n",
        "print(my_std)"
      ],
      "execution_count": null,
      "outputs": [
        {
          "output_type": "stream",
          "text": [
            "1.2909944487358056\n"
          ],
          "name": "stdout"
        }
      ]
    },
    {
      "cell_type": "code",
      "metadata": {
        "id": "xnqUqFsy6yKi"
      },
      "source": [
        "# RMSE\n",
        "\n",
        "import numpy as np\n",
        "\n",
        "rmse1 = ([1, 2], [1, 2])\n",
        "rmse2 = ([1, 2, 3], [3, 2, 1])\n",
        "\n",
        "arr1 = np.array(rmse2[0])\n",
        "arr2 = np.array(rmse2[1])\n",
        "\n",
        "print(np.sqrt(((arr1 - arr2) ** 2).mean()))"
      ],
      "execution_count": null,
      "outputs": []
    },
    {
      "cell_type": "code",
      "metadata": {
        "id": "eEg6Y_D0Y7ZL"
      },
      "source": [
        "# true false\n",
        "\n",
        "check = ([1, 2, 3, -1], 5)\n",
        "\n",
        "def checkf(mlist):\n",
        "  if sum(mlist[0]) == check[1]:\n",
        "    return True\n",
        "  return False\n",
        "\n",
        "checkf(check)"
      ],
      "execution_count": null,
      "outputs": []
    },
    {
      "cell_type": "code",
      "metadata": {
        "colab": {
          "base_uri": "https://localhost:8080/",
          "height": 265
        },
        "id": "x2DmZXIqab8C",
        "outputId": "920ba113-e360-4675-84ab-153f1ea1f87e"
      },
      "source": [
        "# two dices\n",
        "\n",
        "import matplotlib.pyplot as plt\n",
        "import seaborn as sns\n",
        "import numpy as np\n",
        "plt.style.use('ggplot')\n",
        "%matplotlib inline\n",
        "np.random.seed(1738)\n",
        "d1 = np.array([1, 2])\n",
        "d2 = np.array([1, 2, 3, 4])\n",
        "sums = []\n",
        "for _ in range(500):\n",
        "  roll_1 = np.random.choice(d1)\n",
        "  roll_2 = np.random.choice(d2)\n",
        "  sums.append(roll_1 + roll_2)\n",
        "\n",
        "plt.hist(sums)\n",
        "plt.show()"
      ],
      "execution_count": null,
      "outputs": [
        {
          "output_type": "display_data",
          "data": {
            "image/png": "[encoded data removed]",
            "text/plain": [
              "<Figure size 432x288 with 1 Axes>"
            ]
          },
          "metadata": {
            "tags": [],
            "needs_background": "light"
          }
        }
      ]
    },
    {
      "cell_type": "code",
      "metadata": {
        "colab": {
          "base_uri": "https://localhost:8080/"
        },
        "id": "fQBJOmYikYiI",
        "outputId": "58b495e1-4006-4d27-fc92-1f539e9dfd71"
      },
      "source": [
        "# make from [1,2] 12 and so on\n",
        "\n",
        "mylist = [1, 0,0,0]\n",
        "\n",
        "s1 = list(map(str,mylist))\n",
        "s2 = ''.join(s1)\n",
        "s3 = int(s2)\n",
        "s3"
      ],
      "execution_count": null,
      "outputs": [
        {
          "output_type": "execute_result",
          "data": {
            "text/plain": [
              "1000"
            ]
          },
          "metadata": {
            "tags": []
          },
          "execution_count": 26
        }
      ]
    }
  ]
}